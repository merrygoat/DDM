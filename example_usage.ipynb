{
 "cells": [
  {
   "cell_type": "markdown",
   "metadata": {
    "deletable": true,
    "editable": true
   },
   "source": [
    "# Dynamic Differential Microscopy\n",
    "\n",
    "See the readme file for more information.\n",
    "\n",
    "## Analysis\n",
    "Edit the variables in the first cell and run. This will store output in the file FTOneDSlices.txt.\n",
    "\n",
    "* Binsize - Bin size in pixels for the histogram used in the radial averaging of the Fourier transform (FT).\n",
    "* cutoff - Maximum frame averaging for each timestep. Set to 0 for analysis of all possible time increments between all images.\n",
    "* images_to_load - Number of timesteps to load from disk. Set to 0 for all available images.\n",
    "* analysisradius - Radius of FT radial averaging. Set to 0 for analysis of full FT. Deceasing this value can greatly speed up processing since the number of pixels to average increases as radius^2.\n",
    "* image_directory - Directory path of images to analyse, end with slash.\n",
    "* file_prefix - Prefix for file. Program assumes files are numbered sequentially from 0 with 4 digits i.e. image_0000.png, image_0001.png...\n",
    "* file_suffix - File type. Tested with tif and png."
   ]
  },
  {
   "cell_type": "code",
   "execution_count": null,
   "metadata": {
    "collapsed": false,
    "deletable": true,
    "editable": true
   },
   "outputs": [],
   "source": [
    "import ddm\n",
    "\n",
    "binsize = 1\n",
    "cutoff = 250\n",
    "images_to_load = 0\n",
    "analysisradius = 100\n",
    "image_directory = \"example_images/\"\n",
    "file_prefix = \"iii_\"\n",
    "file_suffix = \".png\"\n",
    "\n",
    "\n",
    "ddm.main(binsize, cutoff, images_to_load, analysisradius, image_directory, file_prefix, file_suffix)"
   ]
  },
  {
   "cell_type": "markdown",
   "metadata": {
    "collapsed": true,
    "deletable": true,
    "editable": true
   },
   "source": [
    "## Plotting\n",
    "The analysis code will now load the file saved from the analysis and plot graphs. There are four plotting functions. These can be turned on and off by commenting or uncommenting them. If you have a local LaTeX distribution this will be used to plot graph axis labels. If not set use_latex to False. This will give functional but ugly labels.\n",
    "\n",
    "For the example data series we can see a peak in the intensity of the Fourier difference around 30 inverse pixels. Plotting the Fourier Difference as a function of time for wavevectors between 25 and 30 pixels shows a platau at around 5 seconds. This corresponds well with the relaxation time determined from particle tracking."
   ]
  },
  {
   "cell_type": "code",
   "execution_count": null,
   "metadata": {
    "collapsed": false,
    "deletable": true,
    "editable": true
   },
   "outputs": [],
   "source": [
    "from ddm_data_processing import *\n",
    "#from matplotlib import rc\n",
    "%matplotlib inline\n",
    "\n",
    "\n",
    "def plotmain():\n",
    "    list_of_files = [\"FTOneDSlices_octave1_part_0000.txt\"]\n",
    "    pixel_size = [40]\n",
    "    particle_size = [200]\n",
    "    frame_time = [1]\n",
    "    wavevectors = (25, 30)\n",
    "    use_latex = True\n",
    "    \n",
    "    if not use_latex:\n",
    "        rc('text', usetex=False)\n",
    "    \n",
    "    data = Series(list_of_files, pixel_size, particle_size, frame_time)\n",
    "\n",
    "    plot_azimuthal_angle(data, frame_number = 20, q_in_pixels=True)\n",
    "    plot_wavevector_range(data.datasets[0], wavevectors)\n",
    "    #plot_wavevector_samples(data, wavevector = 25)\n",
    "    #plot_image(data.datasets[0])\n",
    "    # Save the data cropped to the specified wavevetors, useful for plotting in Excel or fitting with another program.\n",
    "    save_series(data, wavevectors)\n",
    "    \n",
    "plotmain()"
   ]
  },
  {
   "cell_type": "markdown",
   "metadata": {
    "collapsed": true,
    "deletable": true,
    "editable": true
   },
   "source": [
    "# Data Fitting\n",
    "\n",
    "Once the data is produced, the stretched exponentials of the relaxation can be fitted to give relaxation time as a function of q"
   ]
  },
  {
   "cell_type": "code",
   "execution_count": null,
   "metadata": {
    "collapsed": false,
    "deletable": true,
    "editable": true
   },
   "outputs": [],
   "source": [
    "import ddm_fitting\n",
    "\n",
    "timestep = 1                      # Spacing in seconds between frames\n",
    "n_data_points = 100               # Fit only the first N timesteps\n",
    "\n",
    "ddm_fitting.fit_curves(float(timestep), n_data_points, octave_start=1, octave_end=6)"
   ]
  },
  {
   "cell_type": "code",
   "execution_count": null,
   "metadata": {
    "collapsed": true,
    "deletable": true,
    "editable": true
   },
   "outputs": [],
   "source": []
  }
 ],
 "metadata": {
  "anaconda-cloud": {},
  "kernelspec": {
   "display_name": "Python [default]",
   "language": "python",
   "name": "python3"
  },
  "language_info": {
   "codemirror_mode": {
    "name": "ipython",
    "version": 3
   },
   "file_extension": ".py",
   "mimetype": "text/x-python",
   "name": "python",
   "nbconvert_exporter": "python",
   "pygments_lexer": "ipython3",
   "version": "3.5.2"
  }
 },
 "nbformat": 4,
 "nbformat_minor": 0
}
