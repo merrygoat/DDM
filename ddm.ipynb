{
 "cells": [
  {
   "cell_type": "code",
   "execution_count": 1,
   "metadata": {
    "collapsed": false
   },
   "outputs": [
    {
     "ename": "IndentationError",
     "evalue": "unindent does not match any outer indentation level (ddm.py, line 105)",
     "output_type": "error",
     "traceback": [
      "\u001b[0;36m  File \u001b[0;32m\"C:\\Users\\Peter\\Dropbox\\Python\\DDM\\ddm.py\"\u001b[0;36m, line \u001b[0;32m105\u001b[0m\n\u001b[0;31m    ftimagelist, numimages = loadimages(images_to_load, analysisradius)\u001b[0m\n\u001b[0m                                                                       ^\u001b[0m\n\u001b[0;31mIndentationError\u001b[0m\u001b[0;31m:\u001b[0m unindent does not match any outer indentation level\n"
     ]
    }
   ],
   "source": [
    "import numpy as np\n",
    "from PIL import Image\n",
    "from tqdm import tqdm\n",
    "from glob import glob\n",
    "import numba\n",
    "import ddm\n",
    "\n",
    "\n",
    "main()"
   ]
  },
  {
   "cell_type": "code",
   "execution_count": 4,
   "metadata": {
    "collapsed": false
   },
   "outputs": [
    {
     "name": "stdout",
     "output_type": "stream",
     "text": [
      "Loading images.\n",
      "Image Loading complete. Beginning analysis.\n"
     ]
    },
    {
     "name": "stderr",
     "output_type": "stream",
     "text": [
      "\n",
      "100%|████████████████████████████████████| 96625/96625 [54:00<00:00, 29.82it/s]\n",
      "Exception in thread Thread-6:\n",
      "Traceback (most recent call last):\n",
      "  File \"C:\\Users\\Peter\\Miniconda3\\lib\\threading.py\", line 914, in _bootstrap_inner\n",
      "    self.run()\n",
      "  File \"C:\\Users\\Peter\\Miniconda3\\lib\\site-packages\\tqdm\\_tqdm.py\", line 102, in run\n",
      "    for instance in self.tqdm_cls._instances:\n",
      "  File \"C:\\Users\\Peter\\Miniconda3\\lib\\_weakrefset.py\", line 60, in __iter__\n",
      "    for itemref in self.data:\n",
      "RuntimeError: Set changed size during iteration\n",
      "\n",
      "100%|███████████████████████████████████| 96375/96375 [09:21<00:00, 173.39it/s]\n"
     ]
    }
   ],
   "source": [
    "main()"
   ]
  },
  {
   "cell_type": "code",
   "execution_count": null,
   "metadata": {
    "collapsed": false
   },
   "outputs": [],
   "source": [
    "import matplotlib.pyplot as plt\n",
    "from matplotlib import rc\n",
    "import numpy as np\n",
    "%matplotlib inline\n",
    "\n",
    "rc('font', **{'family': 'sans-serif', 'sans-serif': ['Helvetica']})\n",
    "# for Palatino and other serif fonts use:\n",
    "rc('font', **{'family': 'serif', 'serif': ['Palatino']})\n",
    "rc('text', usetex=True)\n",
    "\n",
    "\n",
    "class Series:\n",
    "    \"\"\"A class which contains one or more dataset objects\"\"\"\n",
    "    datasets = []\n",
    "\n",
    "    def __init__(self, file_list, pixel_list, particle_size_list, timestep_list):\n",
    "        for i in range(len(file_list)):\n",
    "            self.datasets.append(DDMDataset(file_list[i], pixel_list[i], particle_size_list[i], timestep_list[i]))\n",
    "        self.length = len(self.datasets)\n",
    "\n",
    "\n",
    "class DDMDataset:\n",
    "    \"\"\"A class which contains a single DDM dataset. The class has properties which describe the dataset\"\"\"\n",
    "\n",
    "    def __init__(self, filename, pixel_size, particle_size, timestep):\n",
    "        self.data = np.loadtxt(filename)\n",
    "        self.pixel_size = np.array(pixel_size)\n",
    "        self.particle_size = np.array(particle_size)\n",
    "        self.pixels_per_particle = self.particle_size / self.pixel_size\n",
    "        self.timestep = np.array(timestep)\n",
    "\n",
    "\n",
    "def plot_wavevector_range(ddm_dataset, wavevectors):\n",
    "    \"\"\"Accepts a dataset object as input. Plots magnitude of Fourier difference at a range of different wavevectors for a single sample.\"\"\"\n",
    "\n",
    "    minwavevector = wavevectors[0]\n",
    "    maxwavevector = wavevectors[1]\n",
    "    wavevectorstep = 1\n",
    "\n",
    "    for i in range(minwavevector, maxwavevector, wavevectorstep):\n",
    "        wavevector = '{:1.2f}'.format(i / ddm_dataset.pixels_per_particle)\n",
    "        plt.semilogx([j * ddm_dataset.timestep for j in range(ddm_dataset.data.shape[0])], ddm_dataset.data[:, i], label=wavevector)\n",
    "\n",
    "    plt.ylabel(r'', fontsize=16)\n",
    "    plt.xlabel(r'Time (s)', fontsize=16)\n",
    "    # plt.ylim(0, 5E8)\n",
    "    # plt.xlim(1, 200)\n",
    "    plt.legend(bbox_to_anchor = (1.5,1.5))\n",
    "    # plt.savefig(\"wavevectors.png\", dpi=300, bbox_inches='tight')\n",
    "    plt.show()\n",
    "\n",
    "\n",
    "def plot_wavevector_samples(data_series):\n",
    "    \"\"\"Plots magnitude of Fourier difference at a single wavevector for multiple samples.\"\"\"\n",
    "\n",
    "    wavevector = 25\n",
    "\n",
    "    for i in range(0, data_series.length):\n",
    "        current_dataset = data_series.datasets[i]\n",
    "        plt.semilogx([i * current_dataset.timestep for i in range(current_dataset.data.shape[0])],\n",
    "                     current_dataset.data[:, wavevector], label=str(current_dataset.pixel_size) + \" nm px, q=\"\n",
    "                    + '{:1.2f}'.format(wavevector / current_dataset.pixels_per_particle))\n",
    "\n",
    "    plt.ylabel(r'\\mid F_D(q; \\Delta{t})\\mid^2', fontsize=16)\n",
    "    plt.xlabel(r'Time (s)', fontsize=16)\n",
    "    # plt.ylim(2E8, 5E8)\n",
    "    # plt.xlim(0.1, 120)\n",
    "    plt.legend(loc=1, bbox_to_anchor=(1, 0.23))\n",
    "    # plt.savefig(\"wavevectors.png\", dpi=300, bbox_inches='tight')\n",
    "    plt.show()\n",
    "\n",
    "\n",
    "def plot_image(ddm_dataset):\n",
    "    \"\"\"\n",
    "    Plot the magnitude of the Fourier difference (colour intensity) as a function of\n",
    "    time (y-axis) and wavevector (x-axis).\n",
    "    \"\"\"\n",
    "    plt.imshow(np.log(ddm_dataset.data[1:]))\n",
    "    # plt.savefig(\"ftOndDSlices.png\", dpi=300)\n",
    "    plt.show()\n",
    "\n",
    "\n",
    "def plot_azimuthal_angle(data_series):\n",
    "    # Plot Fourier intensity as a function of wavevector for number of datasets at a specific frame number.\n",
    "\n",
    "    time = 20\n",
    "    # Plot with q in units of pixels. If not plot q in units of 1/d.\n",
    "    q_in_pixels = True\n",
    "\n",
    "    for i in range(0, data_series.length):\n",
    "        ddm_dataset = data_series.datasets[i]\n",
    "        inverse_diameter = 1/ddm_dataset.pixels_per_particle\n",
    "        # Plot the series in terms of q (1/d)\n",
    "        if not q_in_pixels:\n",
    "            plt.semilogy(np.arange(inverse_diameter, (inverse_diameter*(ddm_dataset.data[time, :].shape[0])) + inverse_diameter, inverse_diameter), ddm_dataset.data[time, :])\n",
    "        # Plot the series in terms of q (pixels)\n",
    "        else:\n",
    "            plt.semilogy(np.arange(1, (ddm_dataset.data[time, :].shape[0]) + 1, 1), ddm_dataset.data[time, :])\n",
    "\n",
    "    plt.ylabel(r'\\mid F_D(q; \\Delta{t})\\mid^2', fontsize=16)\n",
    "    if q_in_pixels:\n",
    "        plt.xlabel(r'q (pixels)', fontsize=16)\n",
    "    else:\n",
    "        plt.xlabel(r'q (1/\\sigma)', fontsize=16)\n",
    "    plt.xlim(0, 200)\n",
    "    # plt.ylim(5E6, 1E9)\n",
    "    # plt.savefig(\"radialprofile.png\", dpi=300)\n",
    "    plt.show()\n",
    "\n",
    "def save_series(data_series, output_limits):\n",
    "\n",
    "    output_list = data_series.datasets[0].data[:, output_limits[0]:output_limits[1]]\n",
    "    for i, wavevector in enumerate(range(*output_limits)):\n",
    "        output_list[0, i] = wavevector\n",
    "\n",
    "    np.savetxt(\"FTOneDSlices_cut.txt\", output_list)"
   ]
  },
  {
   "cell_type": "code",
   "execution_count": null,
   "metadata": {
    "collapsed": false
   },
   "outputs": [],
   "source": [
    "def plotmain():\n",
    "    list_of_files = [\"FTOneDSlices.txt\"]\n",
    "    pixel_size = [20]\n",
    "    particle_size = [380]\n",
    "    timestep = [1]\n",
    "    wavevectors = (100, 110)\n",
    "    \n",
    "    data = Series(list_of_files, pixel_size, particle_size, timestep)\n",
    "\n",
    "    plot_wavevector_range(data.datasets[0], wavevectors)\n",
    "    # plot_wavevector_samples(data)\n",
    "    # plot_image(data.datasets[0])\n",
    "    plot_azimuthal_angle(data)\n",
    "    save_series(data, wavevectors)"
   ]
  },
  {
   "cell_type": "code",
   "execution_count": null,
   "metadata": {
    "collapsed": false
   },
   "outputs": [],
   "source": [
    "plotmain()"
   ]
  },
  {
   "cell_type": "code",
   "execution_count": null,
   "metadata": {
    "collapsed": true
   },
   "outputs": [],
   "source": []
  }
 ],
 "metadata": {
  "anaconda-cloud": {},
  "kernelspec": {
   "display_name": "Python [conda root]",
   "language": "python",
   "name": "conda-root-py"
  },
  "language_info": {
   "codemirror_mode": {
    "name": "ipython",
    "version": 3
   },
   "file_extension": ".py",
   "mimetype": "text/x-python",
   "name": "python",
   "nbconvert_exporter": "python",
   "pygments_lexer": "ipython3",
   "version": "3.5.2"
  }
 },
 "nbformat": 4,
 "nbformat_minor": 1
}
